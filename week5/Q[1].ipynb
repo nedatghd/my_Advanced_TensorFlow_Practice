{
 "cells": [
  {
   "cell_type": "code",
   "execution_count": 1,
   "source": [
    "import tensorflow as tf\r\n",
    "from tensorflow import keras\r\n",
    "from tensorflow.keras import layers,models\r\n",
    "import numpy as np\r\n",
    "import matplotlib.pyplot as plt\r\n",
    "from tensorflow.keras.datasets import fashion_mnist\r\n",
    "from tensorflow.keras.utils import to_categorical"
   ],
   "outputs": [],
   "metadata": {}
  },
  {
   "cell_type": "code",
   "execution_count": 2,
   "source": [
    "class SimpleDense(layers.Layer):\r\n",
    "    def __init__(self,units=32,activation=None):\r\n",
    "        super().__init__()\r\n",
    "        self.units=units\r\n",
    "        self.activation= tf.keras.activations.get(activation)\r\n",
    "\r\n",
    "    def build(self,input_size):\r\n",
    "        w_init=tf.random_normal_initializer()\r\n",
    "        self.w=tf.Variable(initial_value=w_init(shape=(input_size[-1],self.units),dtype=tf.float32),trainable=True,name='kernel')\r\n",
    "        b_init=tf.zeros_initializer()\r\n",
    "        self.b=tf.Variable(initial_value=b_init(shape=(1,self.units),dtype=tf.float32),trainable=True,name='bias')\r\n",
    "\r\n",
    "    def call(self,inputs):\r\n",
    "        return self.activation(tf.matmul(inputs,self.w)+self.b)"
   ],
   "outputs": [],
   "metadata": {}
  },
  {
   "cell_type": "code",
   "execution_count": 3,
   "source": [
    "(X_train,Y_train),(X_test,Y_test)=fashion_mnist.load_data()\r\n",
    "X_train=X_train/255\r\n",
    "X_test=X_test/255\r\n",
    "Y_train=to_categorical(Y_train)\r\n",
    "Y_test=to_categorical(Y_test)"
   ],
   "outputs": [],
   "metadata": {}
  },
  {
   "cell_type": "code",
   "execution_count": 4,
   "source": [
    "def my_relu(t):\r\n",
    "    return tf.maximum(t,0.0)\r\n",
    "\r\n",
    "def my_softmax(t):\r\n",
    "    return tf.exp(t)/tf.reduce_sum(tf.exp(t))"
   ],
   "outputs": [],
   "metadata": {}
  },
  {
   "cell_type": "code",
   "execution_count": 5,
   "source": [
    "inputs=layers.Input(shape=(28,28))\r\n",
    "x=layers.Flatten()(inputs)\r\n",
    "x=SimpleDense(128,activation=lambda t:tf.maximum(t,0.0))(x)\r\n",
    "x=SimpleDense(128,activation=lambda t:tf.maximum(t,0.0))(x)\r\n",
    "outputs=SimpleDense(10,activation=lambda t:tf.exp(t)/tf.reduce_sum(tf.exp(t)))(x)\r\n",
    "model=models.Model(inputs=inputs,outputs=outputs)"
   ],
   "outputs": [],
   "metadata": {}
  },
  {
   "cell_type": "code",
   "execution_count": 6,
   "source": [
    "model.compile(optimizer='adam',loss='categorical_crossentropy',metrics=['accuracy'])"
   ],
   "outputs": [],
   "metadata": {}
  },
  {
   "cell_type": "code",
   "execution_count": 7,
   "source": [
    "H=model.fit(X_train,Y_train,batch_size=32,validation_split=0.2,epochs=10)"
   ],
   "outputs": [
    {
     "output_type": "stream",
     "name": "stdout",
     "text": [
      "Epoch 1/10\n",
      "1500/1500 [==============================] - 9s 5ms/step - loss: 0.5288 - accuracy: 0.8101 - val_loss: 0.4532 - val_accuracy: 0.8345\n",
      "Epoch 2/10\n",
      "1500/1500 [==============================] - 8s 5ms/step - loss: 0.3776 - accuracy: 0.8620 - val_loss: 0.3823 - val_accuracy: 0.8621\n",
      "Epoch 3/10\n",
      "1500/1500 [==============================] - 7s 5ms/step - loss: 0.3371 - accuracy: 0.8758 - val_loss: 0.3570 - val_accuracy: 0.8717\n",
      "Epoch 4/10\n",
      "1500/1500 [==============================] - 7s 5ms/step - loss: 0.3115 - accuracy: 0.8850 - val_loss: 0.3670 - val_accuracy: 0.8683\n",
      "Epoch 5/10\n",
      "1500/1500 [==============================] - 7s 5ms/step - loss: 0.2950 - accuracy: 0.8891 - val_loss: 0.3382 - val_accuracy: 0.8769\n",
      "Epoch 6/10\n",
      "1500/1500 [==============================] - 8s 5ms/step - loss: 0.2787 - accuracy: 0.8947 - val_loss: 0.3143 - val_accuracy: 0.8882\n",
      "Epoch 7/10\n",
      "1500/1500 [==============================] - 8s 5ms/step - loss: 0.2667 - accuracy: 0.8991 - val_loss: 0.3175 - val_accuracy: 0.8867\n",
      "Epoch 8/10\n",
      "1500/1500 [==============================] - 7s 5ms/step - loss: 0.2558 - accuracy: 0.9039 - val_loss: 0.3106 - val_accuracy: 0.8910\n",
      "Epoch 9/10\n",
      "1500/1500 [==============================] - 8s 5ms/step - loss: 0.2426 - accuracy: 0.9088 - val_loss: 0.3490 - val_accuracy: 0.8788\n",
      "Epoch 10/10\n",
      "1500/1500 [==============================] - 8s 5ms/step - loss: 0.2351 - accuracy: 0.9103 - val_loss: 0.3335 - val_accuracy: 0.8838\n"
     ]
    }
   ],
   "metadata": {}
  },
  {
   "cell_type": "code",
   "execution_count": 8,
   "source": [
    "plt.plot(H.history['accuracy'],label='accuracy')\r\n",
    "plt.plot(H.history['val_accuracy'],label='validation accuracy')\r\n",
    "plt.plot(H.history['loss'],label='loss')\r\n",
    "plt.plot(H.history['val_loss'],label='validation loss')\r\n",
    "plt.legend()\r\n",
    "plt.xlabel('epochs')\r\n",
    "plt.ylabel('accuracy/loss')\r\n",
    "plt.title('SimpleDense Layer with Activation')"
   ],
   "outputs": [
    {
     "output_type": "execute_result",
     "data": {
      "text/plain": [
       "Text(0.5, 1.0, 'SimpleDense Layer with Activation')"
      ]
     },
     "metadata": {},
     "execution_count": 8
    },
    {
     "output_type": "display_data",
     "data": {
      "image/png": "[encoded data removed]",
      "text/plain": [
       "<Figure size 432x288 with 1 Axes>"
      ]
     },
     "metadata": {
      "needs_background": "light"
     }
    }
   ],
   "metadata": {}
  },
  {
   "cell_type": "code",
   "execution_count": null,
   "source": [],
   "outputs": [],
   "metadata": {}
  }
 ],
 "metadata": {
  "orig_nbformat": 4,
  "language_info": {
   "name": "python",
   "version": "3.8.8",
   "mimetype": "text/x-python",
   "codemirror_mode": {
    "name": "ipython",
    "version": 3
   },
   "pygments_lexer": "ipython3",
   "nbconvert_exporter": "python",
   "file_extension": ".py"
  },
  "kernelspec": {
   "name": "python3",
   "display_name": "Python 3.8.8 64-bit ('base': conda)"
  },
  "interpreter": {
   "hash": "97ae724bfa85b9b34df7982b8bb8c7216f435b92902d749e4263f71162bea840"
  }
 },
 "nbformat": 4,
 "nbformat_minor": 2
}