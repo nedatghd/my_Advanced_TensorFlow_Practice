{
 "cells": [
  {
   "cell_type": "code",
   "execution_count": 26,
   "source": [
    "import tensorflow as tf\r\n",
    "import numpy as np"
   ],
   "outputs": [],
   "metadata": {}
  },
  {
   "cell_type": "code",
   "execution_count": 27,
   "source": [
    "def tf_gradient(x,y):\r\n",
    "    with tf.GradientTape(persistent=True) as tape:\r\n",
    "        tape.watch(x)\r\n",
    "        tape.watch(y)\r\n",
    "        z=x*y+tf.math.sin(x)\r\n",
    "        z=tf.reduce_sum(z)\r\n",
    "\r\n",
    "    dz_dx=tape.gradient(z,x)\r\n",
    "    dz_dy=tape.gradient(z,y)\r\n",
    "    print('dz_dx is: {}'.format(dz_dx.numpy()))\r\n",
    "    print('dy_dx is: {}'.format(dz_dy.numpy()))"
   ],
   "outputs": [],
   "metadata": {}
  },
  {
   "cell_type": "code",
   "execution_count": 28,
   "source": [
    "x=tf.constant([2.0])\r\n",
    "y=tf.constant([3.0])\r\n",
    "tf_gradient(x,y)\r\n"
   ],
   "outputs": [
    {
     "output_type": "stream",
     "name": "stdout",
     "text": [
      "dz_dx is: [2.5838532]\n",
      "dy_dx is: [2.]\n"
     ]
    }
   ],
   "metadata": {}
  }
 ],
 "metadata": {
  "orig_nbformat": 4,
  "language_info": {
   "name": "python",
   "version": "3.8.8",
   "mimetype": "text/x-python",
   "codemirror_mode": {
    "name": "ipython",
    "version": 3
   },
   "pygments_lexer": "ipython3",
   "nbconvert_exporter": "python",
   "file_extension": ".py"
  },
  "kernelspec": {
   "name": "python3",
   "display_name": "Python 3.8.8 64-bit ('base': conda)"
  },
  "interpreter": {
   "hash": "97ae724bfa85b9b34df7982b8bb8c7216f435b92902d749e4263f71162bea840"
  }
 },
 "nbformat": 4,
 "nbformat_minor": 2
}