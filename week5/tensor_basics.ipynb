{
 "cells": [
  {
   "cell_type": "markdown",
   "source": [
    "# Basic Tensors"
   ],
   "metadata": {}
  },
  {
   "cell_type": "markdown",
   "source": [
    "In this ungraded lab, you will try some of the basic operations you can perform on tensors."
   ],
   "metadata": {}
  },
  {
   "cell_type": "markdown",
   "source": [
    "## Imports"
   ],
   "metadata": {}
  },
  {
   "cell_type": "code",
   "execution_count": 1,
   "source": [
    "import tensorflow as tf\r\n",
    "import numpy as np"
   ],
   "outputs": [],
   "metadata": {
    "id": "jqev488WJ9-R"
   }
  },
  {
   "cell_type": "markdown",
   "source": [
    "## Exercise on basic Tensor operations\n",
    "\n",
    "Lets create a single dimension numpy array on which you can perform some operation. You'll make an array of size 25, holding values from 0 to 24."
   ],
   "metadata": {
    "id": "sIIXMZboUw-P"
   }
  },
  {
   "cell_type": "code",
   "execution_count": 2,
   "source": [
    "# Create a 1D uint8 NumPy array comprising of first 25 natural numbers\r\n",
    "x = np.arange(0, 25)\r\n",
    "x"
   ],
   "outputs": [
    {
     "output_type": "execute_result",
     "data": {
      "text/plain": [
       "array([ 0,  1,  2,  3,  4,  5,  6,  7,  8,  9, 10, 11, 12, 13, 14, 15, 16,\n",
       "       17, 18, 19, 20, 21, 22, 23, 24])"
      ]
     },
     "metadata": {},
     "execution_count": 2
    }
   ],
   "metadata": {
    "id": "GkBZyS8hKNXX"
   }
  },
  {
   "cell_type": "markdown",
   "source": [
    "Now that you have your 1-D array, next you'll change that array into a `tensor`. After running the code block below, take a moment to inspect the information of your tensor."
   ],
   "metadata": {}
  },
  {
   "cell_type": "code",
   "execution_count": 3,
   "source": [
    "# Convert NumPy array to Tensor using `tf.constant`\r\n",
    "x = tf.constant(x)\r\n",
    "x"
   ],
   "outputs": [
    {
     "output_type": "execute_result",
     "data": {
      "text/plain": [
       "<tf.Tensor: shape=(25,), dtype=int32, numpy=\n",
       "array([ 0,  1,  2,  3,  4,  5,  6,  7,  8,  9, 10, 11, 12, 13, 14, 15, 16,\n",
       "       17, 18, 19, 20, 21, 22, 23, 24])>"
      ]
     },
     "metadata": {},
     "execution_count": 3
    }
   ],
   "metadata": {
    "id": "MYdVyiSoLPgO"
   }
  },
  {
   "cell_type": "markdown",
   "source": [
    "As the first operation to be performed, you'll square (element-wise) all the values in the tensor `x`"
   ],
   "metadata": {}
  },
  {
   "cell_type": "code",
   "execution_count": 4,
   "source": [
    "# Square the input tensor x\r\n",
    "x = tf.square(x)\r\n",
    "x"
   ],
   "outputs": [
    {
     "output_type": "execute_result",
     "data": {
      "text/plain": [
       "<tf.Tensor: shape=(25,), dtype=int32, numpy=\n",
       "array([  0,   1,   4,   9,  16,  25,  36,  49,  64,  81, 100, 121, 144,\n",
       "       169, 196, 225, 256, 289, 324, 361, 400, 441, 484, 529, 576])>"
      ]
     },
     "metadata": {},
     "execution_count": 4
    }
   ],
   "metadata": {
    "id": "W6BTwNJCLjV8"
   }
  },
  {
   "cell_type": "markdown",
   "source": [
    "One feature of tensors is that they can be reshaped. When reshpaing, make sure you consider dimensions that will include all of the values of the tensor."
   ],
   "metadata": {}
  },
  {
   "cell_type": "code",
   "execution_count": 5,
   "source": [
    "# Reshape tensor x into a 5 x 5 matrix. \r\n",
    "x = tf.reshape(x, shape = (5, 5))\r\n",
    "x"
   ],
   "outputs": [
    {
     "output_type": "execute_result",
     "data": {
      "text/plain": [
       "<tf.Tensor: shape=(5, 5), dtype=int32, numpy=\n",
       "array([[  0,   1,   4,   9,  16],\n",
       "       [ 25,  36,  49,  64,  81],\n",
       "       [100, 121, 144, 169, 196],\n",
       "       [225, 256, 289, 324, 361],\n",
       "       [400, 441, 484, 529, 576]])>"
      ]
     },
     "metadata": {},
     "execution_count": 5
    }
   ],
   "metadata": {
    "id": "7nzBSX8-L0Xt"
   }
  },
  {
   "cell_type": "markdown",
   "source": [
    "Notice that you'll get an error message if you choose a shape that cannot be exactly filled with the values of the given tensor.  \n",
    "* Run the cell below and look at the error message\n",
    "* Try to change the tuple that is passed to `shape` to avoid an error."
   ],
   "metadata": {}
  },
  {
   "cell_type": "code",
   "execution_count": 6,
   "source": [
    "# Try this and look at the error\r\n",
    "# Try to change the input to `shape` to avoid an error\r\n",
    "tmp = tf.constant([1,2,3,4])\r\n",
    "tf.reshape(tmp, shape=(2,2))"
   ],
   "outputs": [
    {
     "output_type": "execute_result",
     "data": {
      "text/plain": [
       "<tf.Tensor: shape=(2, 2), dtype=int32, numpy=\n",
       "array([[1, 2],\n",
       "       [3, 4]])>"
      ]
     },
     "metadata": {},
     "execution_count": 6
    }
   ],
   "metadata": {}
  },
  {
   "cell_type": "markdown",
   "source": [
    "Like reshaping, you can also change the data type of the values within the tensor. Run the cell below to change the data type from `int` to `float`"
   ],
   "metadata": {}
  },
  {
   "cell_type": "code",
   "execution_count": 7,
   "source": [
    "# Cast tensor x into float32. Notice the change in the dtype.\r\n",
    "x = tf.cast(x, tf.float32)\r\n",
    "x"
   ],
   "outputs": [
    {
     "output_type": "execute_result",
     "data": {
      "text/plain": [
       "<tf.Tensor: shape=(5, 5), dtype=float32, numpy=\n",
       "array([[  0.,   1.,   4.,   9.,  16.],\n",
       "       [ 25.,  36.,  49.,  64.,  81.],\n",
       "       [100., 121., 144., 169., 196.],\n",
       "       [225., 256., 289., 324., 361.],\n",
       "       [400., 441., 484., 529., 576.]], dtype=float32)>"
      ]
     },
     "metadata": {},
     "execution_count": 7
    }
   ],
   "metadata": {
    "id": "VoT-jiAIL8x5"
   }
  },
  {
   "cell_type": "markdown",
   "source": [
    "Next, you'll create a single value float tensor by the help of which you'll see `broadcasting` in action"
   ],
   "metadata": {}
  },
  {
   "cell_type": "code",
   "execution_count": 8,
   "source": [
    "# Let's define a constant and see how broadcasting works in the following cell.\r\n",
    "y = tf.constant(2, dtype=tf.float32)\r\n",
    "y"
   ],
   "outputs": [
    {
     "output_type": "execute_result",
     "data": {
      "text/plain": [
       "<tf.Tensor: shape=(), dtype=float32, numpy=2.0>"
      ]
     },
     "metadata": {},
     "execution_count": 8
    }
   ],
   "metadata": {}
  },
  {
   "cell_type": "markdown",
   "source": [
    "Multiply the tensors `x` and `y` together, and notice how multiplication was done and its result."
   ],
   "metadata": {}
  },
  {
   "cell_type": "code",
   "execution_count": 9,
   "source": [
    "# Multiply tensor `x` and `y`. `y` is multiplied to each element of x.\r\n",
    "result = tf.multiply(x, y)\r\n",
    "result"
   ],
   "outputs": [
    {
     "output_type": "execute_result",
     "data": {
      "text/plain": [
       "<tf.Tensor: shape=(5, 5), dtype=float32, numpy=\n",
       "array([[   0.,    2.,    8.,   18.,   32.],\n",
       "       [  50.,   72.,   98.,  128.,  162.],\n",
       "       [ 200.,  242.,  288.,  338.,  392.],\n",
       "       [ 450.,  512.,  578.,  648.,  722.],\n",
       "       [ 800.,  882.,  968., 1058., 1152.]], dtype=float32)>"
      ]
     },
     "metadata": {},
     "execution_count": 9
    }
   ],
   "metadata": {
    "id": "ivepGtD5MKP5"
   }
  },
  {
   "cell_type": "markdown",
   "source": [
    "Re-Initialize `y` to a tensor having more values."
   ],
   "metadata": {}
  },
  {
   "cell_type": "code",
   "execution_count": 10,
   "source": [
    "# Now let's define an array that matches the number of row elements in the `x` array.\r\n",
    "y = tf.constant([1, 2, 3, 4, 5], dtype=tf.float32)\r\n",
    "y"
   ],
   "outputs": [
    {
     "output_type": "execute_result",
     "data": {
      "text/plain": [
       "<tf.Tensor: shape=(5,), dtype=float32, numpy=array([1., 2., 3., 4., 5.], dtype=float32)>"
      ]
     },
     "metadata": {},
     "execution_count": 10
    }
   ],
   "metadata": {
    "id": "8wzZ5NcMMPzD"
   }
  },
  {
   "cell_type": "code",
   "execution_count": 17,
   "source": [
    "# Let's see first the contents of `x` again.\r\n",
    "x"
   ],
   "outputs": [
    {
     "output_type": "execute_result",
     "data": {
      "text/plain": [
       "<tf.Tensor: shape=(5, 5), dtype=float32, numpy=\n",
       "array([[ 0.,  1.,  2.,  3.,  4.],\n",
       "       [ 5.,  6.,  7.,  8.,  9.],\n",
       "       [10., 11., 12., 13., 14.],\n",
       "       [15., 16., 17., 18., 19.],\n",
       "       [20., 21., 22., 23., 24.]], dtype=float32)>"
      ]
     },
     "metadata": {},
     "execution_count": 17
    }
   ],
   "metadata": {}
  },
  {
   "cell_type": "markdown",
   "source": [
    "Add the tensors `x` and `y` together, and notice how addition was done and its result."
   ],
   "metadata": {}
  },
  {
   "cell_type": "code",
   "execution_count": 11,
   "source": [
    "# Add tensor `x` and `y`. `y` is added element wise to each row of `x`.\r\n",
    "result = x + y\r\n",
    "result"
   ],
   "outputs": [
    {
     "output_type": "execute_result",
     "data": {
      "text/plain": [
       "<tf.Tensor: shape=(5, 5), dtype=float32, numpy=\n",
       "array([[  1.,   3.,   7.,  13.,  21.],\n",
       "       [ 26.,  38.,  52.,  68.,  86.],\n",
       "       [101., 123., 147., 173., 201.],\n",
       "       [226., 258., 292., 328., 366.],\n",
       "       [401., 443., 487., 533., 581.]], dtype=float32)>"
      ]
     },
     "metadata": {},
     "execution_count": 11
    }
   ],
   "metadata": {
    "id": "BVlntdYnMboh"
   }
  },
  {
   "cell_type": "markdown",
   "source": [
    "### The shape parameter for tf.constant\n",
    "\n",
    "When using `tf.constant()`, you can pass in a 1D array (a vector) and set the `shape` parameter to turn this vector into a multi-dimensional array."
   ],
   "metadata": {}
  },
  {
   "cell_type": "code",
   "execution_count": 19,
   "source": [
    "tf.constant([1,2,3,4], shape=(2,2))"
   ],
   "outputs": [
    {
     "output_type": "execute_result",
     "data": {
      "text/plain": [
       "<tf.Tensor: shape=(2, 2), dtype=int32, numpy=\n",
       "array([[1, 2],\n",
       "       [3, 4]])>"
      ]
     },
     "metadata": {},
     "execution_count": 19
    }
   ],
   "metadata": {}
  },
  {
   "cell_type": "markdown",
   "source": [
    "### The shape parameter for tf.Variable\n",
    "\n",
    "Note, however, that for `tf.Variable()`, the shape of the tensor is derived from the shape given by the input array.  Setting `shape` to something other than `None` will not reshape a 1D array into a multi-dimensional array, and will give a `ValueError`."
   ],
   "metadata": {}
  },
  {
   "cell_type": "code",
   "execution_count": 16,
   "source": [
    "try:\r\n",
    "    # This will produce a ValueError\r\n",
    "    tf.Variable([1,2,3,4], shape=(2,2))\r\n",
    "except ValueError as v:\r\n",
    "    # See what the ValueError says\r\n",
    "    print(v)"
   ],
   "outputs": [
    {
     "output_type": "stream",
     "name": "stdout",
     "text": [
      "The initial value's shape ((4,)) is not compatible with the explicitly supplied `shape` argument ((2, 2)).\n"
     ]
    }
   ],
   "metadata": {}
  }
 ],
 "metadata": {
  "colab": {
   "name": "basictensors.ipynb",
   "provenance": []
  },
  "kernelspec": {
   "name": "python3",
   "display_name": "Python 3.9.5 64-bit ('RL': conda)"
  },
  "language_info": {
   "codemirror_mode": {
    "name": "ipython",
    "version": 3
   },
   "file_extension": ".py",
   "mimetype": "text/x-python",
   "name": "python",
   "nbconvert_exporter": "python",
   "pygments_lexer": "ipython3",
   "version": "3.9.5"
  },
  "interpreter": {
   "hash": "ddccef09e446cb976b0d5bc7f5b4e94435fd05dbf93431cbdde5894c7c2fbdbb"
  }
 },
 "nbformat": 4,
 "nbformat_minor": 4
}