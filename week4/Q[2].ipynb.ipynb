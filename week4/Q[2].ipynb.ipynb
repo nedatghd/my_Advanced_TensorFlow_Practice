{
 "cells": [
  {
   "cell_type": "code",
   "execution_count": 1,
   "source": [
    "import os\r\n",
    "os.environ[\"TF_CPP_MIN_LOG_LEVEL\"] = \"3\"\r\n",
    "import tensorflow.keras.backend as K\r\n",
    "import matplotlib.pyplot as plt\r\n",
    "import numpy as np\r\n",
    "import tensorflow as tf\r\n",
    "from tensorflow import keras\r\n",
    "from tensorflow.keras import layers,models\r\n",
    "from tensorflow.keras.datasets import mnist,fashion_mnist\r\n",
    "import cv2\r\n",
    "from tensorflow.keras.losses import Loss\r\n",
    "from tensorflow.keras.layers import Conv2D,Dense,GlobalAveragePooling2D,MaxPooling2D,Dropout,Input\r\n",
    "from tensorflow.keras.models import Model"
   ],
   "outputs": [],
   "metadata": {}
  },
  {
   "cell_type": "code",
   "execution_count": 10,
   "source": [
    "class Siamese:\r\n",
    "\r\n",
    "    @staticmethod\r\n",
    "    def build_siamese_model(inputShape, embeddingDim=48):\r\n",
    "        # Specify the inputs for the feature extractor network\r\n",
    "        inputs = Input(inputShape)\r\n",
    "        # Define the first set of CONV => RELU => POOL => DROPOUT layers\r\n",
    "        x = Conv2D(64, (2, 2), padding=\"same\")(inputs)\r\n",
    "        x=layers.Lambda(lambda t:tf.maximum(0.0,t))(x)        # Relu\r\n",
    "        x = MaxPooling2D(pool_size=(2, 2))(x)\r\n",
    "        x = Dropout(0.3)(x)\r\n",
    "        # Second set of CONV => RELU => POOL => DROPOUT layers\r\n",
    "        x = Conv2D(64, (2, 2), padding=\"same\")(x)\r\n",
    "        x=layers.Lambda(lambda t:tf.maximum(0.0,t))(x)        # RElu\r\n",
    "        x = MaxPooling2D(pool_size=2)(x)\r\n",
    "        x = Dropout(0.3)(x)\r\n",
    "        # Prepare the final outputs\r\n",
    "        pooledOutput = GlobalAveragePooling2D()(x)\r\n",
    "        outputs = Dense(embeddingDim)(pooledOutput)\r\n",
    "        # Build the model\r\n",
    "        model = Model(inputs, outputs)\r\n",
    "        # Return the model to the calling function\r\n",
    "        return model\r\n",
    "    @staticmethod\r\n",
    "    def make_pairs(images, labels):\r\n",
    "        # Initialize two empty lists to hold the (image, image) pairs and\r\n",
    "        # labels to indicate if a pair is positive or negative\r\n",
    "        pairImages = []\r\n",
    "        pairLabels = []\r\n",
    "        # Calculate the total number of classes present in the dataset and then build a list of indexes\r\n",
    "        # for each class label that provides the indexes for all examples with a given label\r\n",
    "        numClasses = len(np.unique(labels))\r\n",
    "        idx = [np.where(labels == i)[0] for i in range(0, numClasses)]\r\n",
    "        # Loop over all images\r\n",
    "        for idxA in range(len(images)):\r\n",
    "            # Grab the current image and label belonging to the current iteration\r\n",
    "            currentImage = images[idxA]\r\n",
    "            label = labels[idxA]\r\n",
    "            # Randomly pick an image that belongs to the *same* class label\r\n",
    "            idxB = np.random.choice(idx[label])\r\n",
    "            posImage = images[idxB]\r\n",
    "            # Prepare a positive pair and update the images and labels lists, respectively\r\n",
    "            pairImages.append([currentImage, posImage])\r\n",
    "            pairLabels.append([1])\r\n",
    "            # Grab the indices for each of the class labels *not* equal to the current label and randomly pick an image\r\n",
    "            # corresponding to a label *not* equal to the current label\r\n",
    "            negIdx = np.where(labels != label)[0]\r\n",
    "            negImage = images[np.random.choice(negIdx)]\r\n",
    "            # Prepare a negative pair of images and update our lists\r\n",
    "            pairImages.append([currentImage, negImage])\r\n",
    "            pairLabels.append([0])\r\n",
    "        # Return a 2-tuple of the image pairs and labels\r\n",
    "        return np.array(pairImages), np.array(pairLabels)\r\n",
    "\r\n",
    "    @staticmethod\r\n",
    "    def euclidean_distance(vectors):\r\n",
    "\r\n",
    "        (featsA, featsB) = vectors\r\n",
    "\r\n",
    "        return tf.math.reduce_euclidean_norm(featsA - featsB, axis = 1, keepdims = True)\r\n",
    "        \r\n",
    "\r\n",
    "    @staticmethod\r\n",
    "    def plot_training(H):\r\n",
    "        # Construct a plot that plots and saves the training history\r\n",
    "        plt.style.use(\"ggplot\")\r\n",
    "        plt.figure()\r\n",
    "        plt.plot(H.history[\"loss\"], label=\"train_loss\")\r\n",
    "        plt.plot(H.history[\"val_loss\"], label=\"val_loss\")\r\n",
    "        plt.legend()\r\n",
    "        plt.title(\"Training Loss\")\r\n",
    "        plt.xlabel(\"Epoch #\")\r\n",
    "        plt.ylabel(\"Loss\")"
   ],
   "outputs": [],
   "metadata": {}
  },
  {
   "cell_type": "code",
   "execution_count": 3,
   "source": [
    "class ContrastiveLoss(Loss):\r\n",
    "    def __init__(self,margin):\r\n",
    "        super().__init__()\r\n",
    "        self.margin=margin\r\n",
    "    def call(self,y_true,y_pred):\r\n",
    "        y_true=tf.cast(y_true,y_pred.dtype)\r\n",
    "        squaredPreds=tf.square(y_pred)\r\n",
    "        squaredMargin=tf.square(tf.maximum(self.margin-y_pred,0))\r\n",
    "        loss=tf.reduce_mean(y_true*squaredPreds+(1-y_pred)*squaredMargin)\r\n",
    "        return loss"
   ],
   "outputs": [],
   "metadata": {}
  },
  {
   "cell_type": "code",
   "execution_count": 4,
   "source": [
    "(trainX,trainY),(testX,testY)=fashion_mnist.load_data()\r\n",
    "trainX=trainX/255.0\r\n",
    "testX=testX/255.0\r\n",
    "trainX=np.expand_dims(trainX,axis=-1)\r\n",
    "testX=np.expand_dims(testX,axis=-1)\r\n",
    "pairImages=[]\r\n",
    "pairLabels=[]"
   ],
   "outputs": [],
   "metadata": {}
  },
  {
   "cell_type": "code",
   "execution_count": 5,
   "source": [
    "(pairTrain, labelTrain) = Siamese.make_pairs(trainX, trainY)\r\n",
    "(pairTest, labelTest) = Siamese.make_pairs(testX, testY)"
   ],
   "outputs": [],
   "metadata": {}
  },
  {
   "cell_type": "code",
   "execution_count": 6,
   "source": [
    "IMG_SHAPE = (28, 28, 1)\r\n",
    "imgA=layers.Input(IMG_SHAPE)\r\n",
    "imgB=layers.Input(IMG_SHAPE)\r\n",
    "featureExtractor=Siamese.build_siamese_model(IMG_SHAPE)\r\n",
    "featsA=featureExtractor(imgA)\r\n",
    "featsB=featureExtractor(imgB)\r\n",
    "distance=layers.Lambda(Siamese.euclidean_distance)([featsA,featsB])\r\n",
    "#outputs=Dense(1,activation='sigmoid')(distance)   # for classification\r\n",
    "model = models.Model(inputs=[imgA, imgB], outputs=distance)"
   ],
   "outputs": [],
   "metadata": {}
  },
  {
   "cell_type": "code",
   "execution_count": 7,
   "source": [
    "model.compile(loss=ContrastiveLoss(1),optimizer=\"adam\")"
   ],
   "outputs": [],
   "metadata": {}
  },
  {
   "cell_type": "code",
   "execution_count": 8,
   "source": [
    "history = model.fit([pairTrain[:, 0], pairTrain[:, 1]], labelTrain,\r\n",
    "                    validation_data=([pairTest[:, 0], pairTest[:, 1]], labelTest),\r\n",
    "                    batch_size=64, epochs=20)"
   ],
   "outputs": [
    {
     "output_type": "stream",
     "name": "stdout",
     "text": [
      "Epoch 1/20\n",
      "1875/1875 [==============================] - 53s 26ms/step - loss: 0.2317 - val_loss: 0.3492\n",
      "Epoch 2/20\n",
      "1875/1875 [==============================] - 49s 26ms/step - loss: 0.2212 - val_loss: 0.3707\n",
      "Epoch 3/20\n",
      "1875/1875 [==============================] - 49s 26ms/step - loss: 0.2193 - val_loss: 0.3522\n",
      "Epoch 4/20\n",
      "1875/1875 [==============================] - 50s 26ms/step - loss: 0.2180 - val_loss: 0.3368\n",
      "Epoch 5/20\n",
      "1875/1875 [==============================] - 50s 27ms/step - loss: 0.2170 - val_loss: 0.3353\n",
      "Epoch 6/20\n",
      "1875/1875 [==============================] - 50s 26ms/step - loss: 0.2163 - val_loss: 0.3356\n",
      "Epoch 7/20\n",
      "1875/1875 [==============================] - 50s 27ms/step - loss: 0.2160 - val_loss: 0.3197\n",
      "Epoch 8/20\n",
      "1875/1875 [==============================] - 50s 26ms/step - loss: 0.2154 - val_loss: 0.3143\n",
      "Epoch 9/20\n",
      "1875/1875 [==============================] - 50s 27ms/step - loss: 0.2150 - val_loss: 0.3116\n",
      "Epoch 10/20\n",
      "1875/1875 [==============================] - 50s 27ms/step - loss: 0.2145 - val_loss: 0.3082\n",
      "Epoch 11/20\n",
      "1875/1875 [==============================] - 50s 27ms/step - loss: 0.2141 - val_loss: 0.3028\n",
      "Epoch 12/20\n",
      "1875/1875 [==============================] - 50s 27ms/step - loss: 0.2139 - val_loss: 0.3003\n",
      "Epoch 13/20\n",
      "1875/1875 [==============================] - 50s 27ms/step - loss: 0.2135 - val_loss: 0.2955\n",
      "Epoch 14/20\n",
      "1875/1875 [==============================] - 50s 27ms/step - loss: 0.2133 - val_loss: 0.2926\n",
      "Epoch 15/20\n",
      "1875/1875 [==============================] - 50s 27ms/step - loss: 0.2130 - val_loss: 0.2952\n",
      "Epoch 16/20\n",
      "1875/1875 [==============================] - 50s 27ms/step - loss: 0.2127 - val_loss: 0.2918\n",
      "Epoch 17/20\n",
      "1875/1875 [==============================] - 50s 27ms/step - loss: 0.2126 - val_loss: 0.2970\n",
      "Epoch 18/20\n",
      "1875/1875 [==============================] - 50s 27ms/step - loss: 0.2124 - val_loss: 0.2916\n",
      "Epoch 19/20\n",
      "1875/1875 [==============================] - 50s 27ms/step - loss: 0.2123 - val_loss: 0.2838\n",
      "Epoch 20/20\n",
      "1875/1875 [==============================] - 50s 27ms/step - loss: 0.2122 - val_loss: 0.2935\n"
     ]
    }
   ],
   "metadata": {}
  },
  {
   "cell_type": "code",
   "execution_count": 11,
   "source": [
    "Siamese.plot_training(history)"
   ],
   "outputs": [
    {
     "output_type": "display_data",
     "data": {
      "image/png": "[encoded data removed]",
      "text/plain": [
       "<Figure size 432x288 with 1 Axes>"
      ]
     },
     "metadata": {}
    }
   ],
   "metadata": {}
  },
  {
   "cell_type": "code",
   "execution_count": null,
   "source": [],
   "outputs": [],
   "metadata": {}
  }
 ],
 "metadata": {
  "orig_nbformat": 4,
  "language_info": {
   "name": "python",
   "version": "3.8.8",
   "mimetype": "text/x-python",
   "codemirror_mode": {
    "name": "ipython",
    "version": 3
   },
   "pygments_lexer": "ipython3",
   "nbconvert_exporter": "python",
   "file_extension": ".py"
  },
  "kernelspec": {
   "name": "python3",
   "display_name": "Python 3.8.8 64-bit ('base': conda)"
  },
  "interpreter": {
   "hash": "97ae724bfa85b9b34df7982b8bb8c7216f435b92902d749e4263f71162bea840"
  }
 },
 "nbformat": 4,
 "nbformat_minor": 2
}