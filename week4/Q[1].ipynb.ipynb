{
 "cells": [
  {
   "cell_type": "code",
   "execution_count": 8,
   "source": [
    "import os\r\n",
    "os.environ[\"TF_CPP_MIN_LOG_LEVEL\"] = \"3\"\r\n",
    "import tensorflow.keras.backend as K\r\n",
    "import matplotlib.pyplot as plt\r\n",
    "import numpy as np\r\n",
    "import tensorflow as tf\r\n",
    "from tensorflow import keras\r\n",
    "from tensorflow.keras import layers,models\r\n",
    "from tensorflow.keras.datasets import mnist,fashion_mnist\r\n",
    "import cv2\r\n",
    "from tensorflow.keras.losses import Loss\r\n",
    "from tensorflow.keras.layers import Conv2D,Dense,GlobalAveragePooling2D,MaxPooling2D,Dropout,Input\r\n",
    "from tensorflow.keras.models import Model"
   ],
   "outputs": [],
   "metadata": {}
  },
  {
   "cell_type": "code",
   "execution_count": 9,
   "source": [
    "(trainX,trainY),(testX,testY)=fashion_mnist.load_data()"
   ],
   "outputs": [],
   "metadata": {}
  },
  {
   "cell_type": "code",
   "execution_count": 10,
   "source": [
    "trainX=trainX/255.0\r\n",
    "testX=testX/255.0"
   ],
   "outputs": [],
   "metadata": {}
  },
  {
   "cell_type": "code",
   "execution_count": 11,
   "source": [
    "trainX=np.expand_dims(trainX,axis=-1)\r\n",
    "testX=np.expand_dims(testX,axis=-1)"
   ],
   "outputs": [],
   "metadata": {}
  },
  {
   "cell_type": "code",
   "execution_count": 12,
   "source": [
    "pairImages=[]\r\n",
    "pairLabels=[]\r\n"
   ],
   "outputs": [],
   "metadata": {}
  },
  {
   "cell_type": "code",
   "execution_count": 13,
   "source": [
    "def make_pairs(images, labels):\r\n",
    "    # Initialize two empty lists to hold the (image, image) pairs and\r\n",
    "    # labels to indicate if a pair is positive or negative\r\n",
    "    pairImages = []\r\n",
    "    pairLabels = []\r\n",
    "    # Calculate the total number of classes present in the dataset and then build a list of indexes\r\n",
    "    # for each class label that provides the indexes for all examples with a given label\r\n",
    "    numClasses = len(np.unique(labels))\r\n",
    "    idx = [np.where(labels == i)[0] for i in range(0, numClasses)]\r\n",
    "    # Loop over all images\r\n",
    "    for idxA in range(len(images)):\r\n",
    "        # Grab the current image and label belonging to the current iteration\r\n",
    "        currentImage = images[idxA]\r\n",
    "        label = labels[idxA]\r\n",
    "        # Randomly pick an image that belongs to the *same* class label\r\n",
    "        idxB = np.random.choice(idx[label])\r\n",
    "        posImage = images[idxB]\r\n",
    "        # Prepare a positive pair and update the images and labels lists, respectively\r\n",
    "        pairImages.append([currentImage, posImage])\r\n",
    "        pairLabels.append([1])\r\n",
    "        # Grab the indices for each of the class labels *not* equal to the current label and randomly pick an image\r\n",
    "        # corresponding to a label *not* equal to the current label\r\n",
    "        negIdx = np.where(labels != label)[0]\r\n",
    "        negImage = images[np.random.choice(negIdx)]\r\n",
    "        # Prepare a negative pair of images and update our lists\r\n",
    "        pairImages.append([currentImage, negImage])\r\n",
    "        pairLabels.append([0])\r\n",
    "    # Return a 2-tuple of the image pairs and labels\r\n",
    "    return np.array(pairImages), np.array(pairLabels)"
   ],
   "outputs": [],
   "metadata": {}
  },
  {
   "cell_type": "code",
   "execution_count": 14,
   "source": [
    "def euclidean_distance(vectors):\r\n",
    "\r\n",
    "    (featsA, featsB) = vectors\r\n",
    "\r\n",
    "    return tf.math.reduce_euclidean_norm(featsA - featsB, axis = 1, keepdims = True)"
   ],
   "outputs": [],
   "metadata": {}
  },
  {
   "cell_type": "code",
   "execution_count": 15,
   "source": [
    "'''def contrastive_loss_with_margin(margin):\r\n",
    "    def contrastive_loss(y_true,y_pred):\r\n",
    "        y_true=tf.cast(y_true,y_pred.dtype)\r\n",
    "        squaredPreds=tf.square(y_pred)\r\n",
    "        squaredMargin=tf.square(tf.maximum(margin-y_pred,0))\r\n",
    "        loss=tf.reduce_mean(y_true*squaredPreds+(1-y_true)*squaredMargin)\r\n",
    "        return loss\r\n",
    "    return contrastive_loss'''"
   ],
   "outputs": [
    {
     "output_type": "execute_result",
     "data": {
      "text/plain": [
       "'def contrastive_loss_with_margin(margin):\\n    def contrastive_loss(y_true,y_pred):\\n        y_true=tf.cast(y_true,y_pred.dtype)\\n        squaredPreds=tf.square(y_pred)\\n        squaredMargin=tf.square(tf.maximum(margin-y_pred,0))\\n        loss=tf.reduce_mean(y_true*squaredPreds+(1-y_true)*squaredMargin)\\n        return loss\\n    return contrastive_loss'"
      ]
     },
     "metadata": {},
     "execution_count": 15
    }
   ],
   "metadata": {}
  },
  {
   "cell_type": "code",
   "execution_count": 16,
   "source": [
    "def contrastive_loss(y_true,y_pred):\r\n",
    "    margin=1\r\n",
    "    y_true=tf.cast(y_true,y_pred.dtype)\r\n",
    "    squaredPreds=tf.square(y_pred)\r\n",
    "    squaredMargin=tf.square(tf.maximum(margin-y_pred,0))\r\n",
    "    loss=tf.reduce_mean(y_true*squaredPreds+(1-y_true)*squaredMargin)\r\n",
    "    return loss"
   ],
   "outputs": [],
   "metadata": {}
  },
  {
   "cell_type": "code",
   "execution_count": 17,
   "source": [
    "'''class ContrastiveLoss(Loss):\r\n",
    "    def __init__(self,margin):\r\n",
    "        super().__init__()\r\n",
    "        self.margin=margin\r\n",
    "    def call(self,y_true,y_pred):\r\n",
    "        y_true=tf.cast(y_true,y_pred.dtype)\r\n",
    "        squaredPreds=tf.square(y_pred)\r\n",
    "        squaredMargin=tf.square(tf.maximum(self.margin-y_pred,0))\r\n",
    "        loss=tf.reduce_mean(y_true*squaredPreds+(1-y_pred)*squaredMargin)\r\n",
    "        return loss'''\r\n"
   ],
   "outputs": [
    {
     "output_type": "execute_result",
     "data": {
      "text/plain": [
       "'class ContrastiveLoss(Loss):\\n    def __init__(self,margin):\\n        super().__init__()\\n        self.margin=margin\\n    def call(self,y_true,y_pred):\\n        y_true=tf.cast(y_true,y_pred.dtype)\\n        squaredPreds=tf.square(y_pred)\\n        squaredMargin=tf.square(tf.maximum(self.margin-y_pred,0))\\n        loss=tf.reduce_mean(y_true*squaredPreds+(1-y_pred)*squaredMargin)\\n        return loss'"
      ]
     },
     "metadata": {},
     "execution_count": 17
    }
   ],
   "metadata": {}
  },
  {
   "cell_type": "code",
   "execution_count": 18,
   "source": [
    "'''def build_siamese_model(inputShape, embeddingDim=48):    # classification & binary_crossentropy\r\n",
    "    # Specify the inputs for the feature extractor network\r\n",
    "    inputs = Input(inputShape)\r\n",
    "    # Define the first set of CONV => RELU => POOL => DROPOUT layers\r\n",
    "    x = Conv2D(64, (2, 2), padding=\"same\", activation=\"relu\")(inputs)\r\n",
    "    x = MaxPooling2D(pool_size=(2, 2))(x)\r\n",
    "    x = Dropout(0.3)(x)\r\n",
    "    # Second set of CONV => RELU => POOL => DROPOUT layers\r\n",
    "    x = Conv2D(64, (2, 2), padding=\"same\", activation=\"relu\")(x)\r\n",
    "    x = MaxPooling2D(pool_size=2)(x)\r\n",
    "    x = Dropout(0.3)(x)\r\n",
    "    # Prepare the final outputs\r\n",
    "    pooledOutput = GlobalAveragePooling2D()(x)\r\n",
    "    outputs = Dense(embeddingDim)(pooledOutput)\r\n",
    "    # Build the model\r\n",
    "    model = Model(inputs, outputs)\r\n",
    "    # Return the model to the calling function\r\n",
    "    return model'''"
   ],
   "outputs": [
    {
     "output_type": "execute_result",
     "data": {
      "text/plain": [
       "'def build_siamese_model(inputShape, embeddingDim=48):    # classification & binary_crossentropy\\n    # Specify the inputs for the feature extractor network\\n    inputs = Input(inputShape)\\n    # Define the first set of CONV => RELU => POOL => DROPOUT layers\\n    x = Conv2D(64, (2, 2), padding=\"same\", activation=\"relu\")(inputs)\\n    x = MaxPooling2D(pool_size=(2, 2))(x)\\n    x = Dropout(0.3)(x)\\n    # Second set of CONV => RELU => POOL => DROPOUT layers\\n    x = Conv2D(64, (2, 2), padding=\"same\", activation=\"relu\")(x)\\n    x = MaxPooling2D(pool_size=2)(x)\\n    x = Dropout(0.3)(x)\\n    # Prepare the final outputs\\n    pooledOutput = GlobalAveragePooling2D()(x)\\n    outputs = Dense(embeddingDim)(pooledOutput)\\n    # Build the model\\n    model = Model(inputs, outputs)\\n    # Return the model to the calling function\\n    return model'"
      ]
     },
     "metadata": {},
     "execution_count": 18
    }
   ],
   "metadata": {}
  },
  {
   "cell_type": "code",
   "execution_count": 19,
   "source": [
    "def build_siamese_model(inputShape, embeddingDim=48):\r\n",
    "    # Specify the inputs for the feature extractor network\r\n",
    "    inputs = Input(inputShape)\r\n",
    "    # Define the first set of CONV => RELU => POOL => DROPOUT layers\r\n",
    "    x = Conv2D(64, (2, 2), padding=\"same\")(inputs)\r\n",
    "    x=layers.Lambda(lambda t:tf.maximum(0.0,t))(x)        # Relu\r\n",
    "    x = MaxPooling2D(pool_size=(2, 2))(x)\r\n",
    "    x = Dropout(0.3)(x)\r\n",
    "    # Second set of CONV => RELU => POOL => DROPOUT layers\r\n",
    "    x = Conv2D(64, (2, 2), padding=\"same\")(x)\r\n",
    "    x=layers.Lambda(lambda t:tf.maximum(0.0,t))(x)        # RElu\r\n",
    "    x = MaxPooling2D(pool_size=2)(x)\r\n",
    "    x = Dropout(0.3)(x)\r\n",
    "    # Prepare the final outputs\r\n",
    "    pooledOutput = GlobalAveragePooling2D()(x)\r\n",
    "    outputs = Dense(embeddingDim)(pooledOutput)\r\n",
    "    # Build the model\r\n",
    "    model = Model(inputs, outputs)\r\n",
    "    # Return the model to the calling function\r\n",
    "    return model"
   ],
   "outputs": [],
   "metadata": {}
  },
  {
   "cell_type": "code",
   "execution_count": 20,
   "source": [
    "(pairTrain, labelTrain) = make_pairs(trainX, trainY)\r\n",
    "(pairTest, labelTest) = make_pairs(testX, testY)"
   ],
   "outputs": [],
   "metadata": {}
  },
  {
   "cell_type": "code",
   "execution_count": 21,
   "source": [
    "pairTrain.shape"
   ],
   "outputs": [
    {
     "output_type": "execute_result",
     "data": {
      "text/plain": [
       "(120000, 2, 28, 28, 1)"
      ]
     },
     "metadata": {},
     "execution_count": 21
    }
   ],
   "metadata": {}
  },
  {
   "cell_type": "code",
   "execution_count": 22,
   "source": [
    "labelTrain.shape"
   ],
   "outputs": [
    {
     "output_type": "execute_result",
     "data": {
      "text/plain": [
       "(120000, 1)"
      ]
     },
     "metadata": {},
     "execution_count": 22
    }
   ],
   "metadata": {}
  },
  {
   "cell_type": "code",
   "execution_count": 23,
   "source": [
    "IMG_SHAPE = (28, 28, 1)\r\n",
    "imgA=layers.Input(IMG_SHAPE)\r\n",
    "imgB=layers.Input(IMG_SHAPE)\r\n",
    "featureExtractor=build_siamese_model(IMG_SHAPE)\r\n",
    "featsA=featureExtractor(imgA)\r\n",
    "featsB=featureExtractor(imgB)\r\n",
    "distance=layers.Lambda(euclidean_distance)([featsA,featsB])\r\n",
    "#outputs=Dense(1,activation='sigmoid')(distance)   # for classification\r\n",
    "model = models.Model(inputs=[imgA, imgB], outputs=distance)"
   ],
   "outputs": [],
   "metadata": {}
  },
  {
   "cell_type": "code",
   "execution_count": 17,
   "source": [
    "model.compile(loss=contrastive_loss,optimizer=\"adam\")"
   ],
   "outputs": [],
   "metadata": {}
  },
  {
   "cell_type": "code",
   "execution_count": 18,
   "source": [
    "history = model.fit([pairTrain[:, 0], pairTrain[:, 1]], labelTrain,\r\n",
    "                    validation_data=([pairTest[:, 0], pairTest[:, 1]], labelTest),\r\n",
    "                    batch_size=64, epochs=20)"
   ],
   "outputs": [
    {
     "output_type": "stream",
     "name": "stdout",
     "text": [
      "Epoch 1/20\n",
      "1875/1875 [==============================] - 55s 26ms/step - loss: 0.1534 - val_loss: 0.1352\n",
      "Epoch 2/20\n",
      "1875/1875 [==============================] - 48s 26ms/step - loss: 0.1327 - val_loss: 0.1279\n",
      "Epoch 3/20\n",
      "1875/1875 [==============================] - 49s 26ms/step - loss: 0.1275 - val_loss: 0.1243\n",
      "Epoch 4/20\n",
      "1875/1875 [==============================] - 49s 26ms/step - loss: 0.1244 - val_loss: 0.1227\n",
      "Epoch 5/20\n",
      "1875/1875 [==============================] - 49s 26ms/step - loss: 0.1224 - val_loss: 0.1234\n",
      "Epoch 6/20\n",
      "1875/1875 [==============================] - 50s 27ms/step - loss: 0.1205 - val_loss: 0.1163\n",
      "Epoch 7/20\n",
      "1875/1875 [==============================] - 50s 27ms/step - loss: 0.1196 - val_loss: 0.1172\n",
      "Epoch 8/20\n",
      "1875/1875 [==============================] - 50s 27ms/step - loss: 0.1185 - val_loss: 0.1140\n",
      "Epoch 9/20\n",
      "1875/1875 [==============================] - 50s 27ms/step - loss: 0.1179 - val_loss: 0.1139\n",
      "Epoch 10/20\n",
      "1875/1875 [==============================] - 50s 27ms/step - loss: 0.1171 - val_loss: 0.1201\n",
      "Epoch 11/20\n",
      "1875/1875 [==============================] - 50s 27ms/step - loss: 0.1168 - val_loss: 0.1153\n",
      "Epoch 12/20\n",
      "1875/1875 [==============================] - 50s 27ms/step - loss: 0.1161 - val_loss: 0.1135\n",
      "Epoch 13/20\n",
      "1875/1875 [==============================] - 50s 27ms/step - loss: 0.1157 - val_loss: 0.1186\n",
      "Epoch 14/20\n",
      "1875/1875 [==============================] - 50s 27ms/step - loss: 0.1152 - val_loss: 0.1147\n",
      "Epoch 15/20\n",
      "1875/1875 [==============================] - 50s 27ms/step - loss: 0.1150 - val_loss: 0.1134\n",
      "Epoch 16/20\n",
      "1875/1875 [==============================] - 51s 27ms/step - loss: 0.1146 - val_loss: 0.1100\n",
      "Epoch 17/20\n",
      "1875/1875 [==============================] - 51s 27ms/step - loss: 0.1143 - val_loss: 0.1160\n",
      "Epoch 18/20\n",
      "1875/1875 [==============================] - 51s 27ms/step - loss: 0.1144 - val_loss: 0.1115\n",
      "Epoch 19/20\n",
      "1875/1875 [==============================] - 51s 27ms/step - loss: 0.1140 - val_loss: 0.1107\n",
      "Epoch 20/20\n",
      "1875/1875 [==============================] - 51s 27ms/step - loss: 0.1139 - val_loss: 0.1094\n"
     ]
    }
   ],
   "metadata": {}
  },
  {
   "cell_type": "code",
   "execution_count": 7,
   "source": [
    "def plot_training(H):\r\n",
    "    # Construct a plot that plots and saves the training history\r\n",
    "    plt.style.use(\"ggplot\")\r\n",
    "    plt.figure()\r\n",
    "    plt.plot(H.history[\"loss\"], label=\"train_loss\")\r\n",
    "    plt.legend()\r\n",
    "    plt.plot(H.history[\"val_loss\"], label=\"val_loss\")\r\n",
    "    plt.title(\"Training Loss\")\r\n",
    "    plt.xlabel(\"Epoch #\")\r\n",
    "    plt.ylabel(\"Loss\")"
   ],
   "outputs": [],
   "metadata": {}
  },
  {
   "cell_type": "code",
   "execution_count": 20,
   "source": [
    "plot_training(history)"
   ],
   "outputs": [
    {
     "output_type": "display_data",
     "data": {
      "image/png": "[encoded data removed]",
      "text/plain": [
       "<Figure size 432x288 with 1 Axes>"
      ]
     },
     "metadata": {}
    }
   ],
   "metadata": {}
  },
  {
   "cell_type": "code",
   "execution_count": null,
   "source": [],
   "outputs": [],
   "metadata": {}
  },
  {
   "cell_type": "markdown",
   "source": [
    "### Contrastive Loss from Tensorflow Addons"
   ],
   "metadata": {}
  },
  {
   "cell_type": "code",
   "execution_count": 6,
   "source": [
    "import tensorflow_addons as tfa"
   ],
   "outputs": [],
   "metadata": {}
  },
  {
   "cell_type": "code",
   "execution_count": 24,
   "source": [
    "model.compile(loss=tfa.losses.ContrastiveLoss(),optimizer=\"adam\")"
   ],
   "outputs": [],
   "metadata": {}
  },
  {
   "cell_type": "code",
   "execution_count": 25,
   "source": [
    "history2 = model.fit([pairTrain[:, 0], pairTrain[:, 1]], labelTrain,\r\n",
    "                    validation_data=([pairTest[:, 0], pairTest[:, 1]], labelTest),\r\n",
    "                    batch_size=64, epochs=20)"
   ],
   "outputs": [
    {
     "output_type": "stream",
     "name": "stdout",
     "text": [
      "Epoch 1/20\n",
      "1875/1875 [==============================] - 60s 28ms/step - loss: 0.1509 - val_loss: 0.1341\n",
      "Epoch 2/20\n",
      "1875/1875 [==============================] - 50s 26ms/step - loss: 0.1314 - val_loss: 0.1230\n",
      "Epoch 3/20\n",
      "1875/1875 [==============================] - 49s 26ms/step - loss: 0.1269 - val_loss: 0.1231\n",
      "Epoch 4/20\n",
      "1875/1875 [==============================] - 50s 27ms/step - loss: 0.1240 - val_loss: 0.1223\n",
      "Epoch 5/20\n",
      "1875/1875 [==============================] - 52s 28ms/step - loss: 0.1224 - val_loss: 0.1176\n",
      "Epoch 6/20\n",
      "1875/1875 [==============================] - 51s 27ms/step - loss: 0.1207 - val_loss: 0.1146\n",
      "Epoch 7/20\n",
      "1875/1875 [==============================] - 51s 27ms/step - loss: 0.1199 - val_loss: 0.1123\n",
      "Epoch 8/20\n",
      "1875/1875 [==============================] - 51s 27ms/step - loss: 0.1191 - val_loss: 0.1169\n",
      "Epoch 9/20\n",
      "1875/1875 [==============================] - 51s 27ms/step - loss: 0.1180 - val_loss: 0.1127\n",
      "Epoch 10/20\n",
      "1875/1875 [==============================] - 51s 27ms/step - loss: 0.1178 - val_loss: 0.1123\n",
      "Epoch 11/20\n",
      "1875/1875 [==============================] - 52s 28ms/step - loss: 0.1168 - val_loss: 0.1151\n",
      "Epoch 12/20\n",
      "1875/1875 [==============================] - 52s 28ms/step - loss: 0.1170 - val_loss: 0.1118\n",
      "Epoch 13/20\n",
      "1875/1875 [==============================] - 52s 28ms/step - loss: 0.1162 - val_loss: 0.1179\n",
      "Epoch 14/20\n",
      "1875/1875 [==============================] - 52s 28ms/step - loss: 0.1161 - val_loss: 0.1194\n",
      "Epoch 15/20\n",
      "1875/1875 [==============================] - 50s 27ms/step - loss: 0.1150 - val_loss: 0.1104\n",
      "Epoch 16/20\n",
      "1875/1875 [==============================] - 50s 27ms/step - loss: 0.1151 - val_loss: 0.1116\n",
      "Epoch 17/20\n",
      "1875/1875 [==============================] - 51s 27ms/step - loss: 0.1152 - val_loss: 0.1078\n",
      "Epoch 18/20\n",
      "1875/1875 [==============================] - 50s 26ms/step - loss: 0.1146 - val_loss: 0.1128\n",
      "Epoch 19/20\n",
      "1875/1875 [==============================] - 50s 26ms/step - loss: 0.1141 - val_loss: 0.1116\n",
      "Epoch 20/20\n",
      "1875/1875 [==============================] - 50s 26ms/step - loss: 0.1141 - val_loss: 0.1115\n"
     ]
    }
   ],
   "metadata": {}
  },
  {
   "cell_type": "code",
   "execution_count": 27,
   "source": [
    "plot_training(history2)"
   ],
   "outputs": [
    {
     "output_type": "display_data",
     "data": {
      "image/png": "[encoded data removed]",
      "text/plain": [
       "<Figure size 432x288 with 1 Axes>"
      ]
     },
     "metadata": {}
    }
   ],
   "metadata": {}
  }
 ],
 "metadata": {
  "kernelspec": {
   "name": "python3",
   "display_name": "Python 3.8.8 64-bit"
  },
  "language_info": {
   "codemirror_mode": {
    "name": "ipython",
    "version": 3
   },
   "file_extension": ".py",
   "mimetype": "text/x-python",
   "name": "python",
   "nbconvert_exporter": "python",
   "pygments_lexer": "ipython3",
   "version": "3.8.8"
  },
  "interpreter": {
   "hash": "97ae724bfa85b9b34df7982b8bb8c7216f435b92902d749e4263f71162bea840"
  }
 },
 "nbformat": 4,
 "nbformat_minor": 5
}